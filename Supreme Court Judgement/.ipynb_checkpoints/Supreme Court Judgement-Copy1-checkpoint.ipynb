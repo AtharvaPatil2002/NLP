{
 "cells": [
  {
   "cell_type": "code",
   "execution_count": 65,
   "id": "4d6debc5",
   "metadata": {},
   "outputs": [],
   "source": [
    "import pandas as pd\n",
    "import numpy as np\n",
    "import re\n",
    "import nltk\n",
    "import os\n",
    "import matplotlib.pyplot as plt\n",
    "from matplotlib.pyplot import figure"
   ]
  },
  {
   "cell_type": "code",
   "execution_count": 2,
   "id": "4068caa1",
   "metadata": {},
   "outputs": [],
   "source": [
    "from sklearn.model_selection import train_test_split\n",
    "from sklearn.metrics import classification_report\n",
    "\n",
    "from xgboost import XGBClassifier\n",
    "from sklearn.linear_model import LogisticRegression\n",
    "from sklearn.neighbors import KNeighborsClassifier\n",
    "\n",
    "from sklearn.metrics import accuracy_score"
   ]
  },
  {
   "cell_type": "code",
   "execution_count": 23,
   "id": "dab7bc14",
   "metadata": {},
   "outputs": [],
   "source": [
    "df = pd.read_csv('justice.csv')"
   ]
  },
  {
   "cell_type": "markdown",
   "id": "8addfc6f",
   "metadata": {},
   "source": [
    "## Dropping null values"
   ]
  },
  {
   "cell_type": "code",
   "execution_count": 27,
   "id": "3dae7be4",
   "metadata": {},
   "outputs": [],
   "source": [
    "df.dropna(inplace=True)"
   ]
  },
  {
   "cell_type": "code",
   "execution_count": 28,
   "id": "2032cc03",
   "metadata": {},
   "outputs": [
    {
     "data": {
      "text/html": [
       "<div>\n",
       "<style scoped>\n",
       "    .dataframe tbody tr th:only-of-type {\n",
       "        vertical-align: middle;\n",
       "    }\n",
       "\n",
       "    .dataframe tbody tr th {\n",
       "        vertical-align: top;\n",
       "    }\n",
       "\n",
       "    .dataframe thead th {\n",
       "        text-align: right;\n",
       "    }\n",
       "</style>\n",
       "<table border=\"1\" class=\"dataframe\">\n",
       "  <thead>\n",
       "    <tr style=\"text-align: right;\">\n",
       "      <th></th>\n",
       "      <th>Unnamed: 0</th>\n",
       "      <th>ID</th>\n",
       "      <th>name</th>\n",
       "      <th>href</th>\n",
       "      <th>docket</th>\n",
       "      <th>term</th>\n",
       "      <th>first_party</th>\n",
       "      <th>second_party</th>\n",
       "      <th>facts</th>\n",
       "      <th>facts_len</th>\n",
       "      <th>majority_vote</th>\n",
       "      <th>minority_vote</th>\n",
       "      <th>first_party_winner</th>\n",
       "      <th>decision_type</th>\n",
       "      <th>disposition</th>\n",
       "      <th>issue_area</th>\n",
       "    </tr>\n",
       "  </thead>\n",
       "  <tbody>\n",
       "    <tr>\n",
       "      <th>1</th>\n",
       "      <td>1</td>\n",
       "      <td>50613</td>\n",
       "      <td>Stanley v. Illinois</td>\n",
       "      <td>https://api.oyez.org/cases/1971/70-5014</td>\n",
       "      <td>70-5014</td>\n",
       "      <td>1971</td>\n",
       "      <td>Peter Stanley, Sr.</td>\n",
       "      <td>Illinois</td>\n",
       "      <td>&lt;p&gt;Joan Stanley had three children with Peter ...</td>\n",
       "      <td>757</td>\n",
       "      <td>5</td>\n",
       "      <td>2</td>\n",
       "      <td>True</td>\n",
       "      <td>majority opinion</td>\n",
       "      <td>reversed/remanded</td>\n",
       "      <td>Civil Rights</td>\n",
       "    </tr>\n",
       "    <tr>\n",
       "      <th>2</th>\n",
       "      <td>2</td>\n",
       "      <td>50623</td>\n",
       "      <td>Giglio v. United States</td>\n",
       "      <td>https://api.oyez.org/cases/1971/70-29</td>\n",
       "      <td>70-29</td>\n",
       "      <td>1971</td>\n",
       "      <td>John Giglio</td>\n",
       "      <td>United States</td>\n",
       "      <td>&lt;p&gt;John Giglio was convicted of passing forged...</td>\n",
       "      <td>495</td>\n",
       "      <td>7</td>\n",
       "      <td>0</td>\n",
       "      <td>True</td>\n",
       "      <td>majority opinion</td>\n",
       "      <td>reversed/remanded</td>\n",
       "      <td>Due Process</td>\n",
       "    </tr>\n",
       "    <tr>\n",
       "      <th>3</th>\n",
       "      <td>3</td>\n",
       "      <td>50632</td>\n",
       "      <td>Reed v. Reed</td>\n",
       "      <td>https://api.oyez.org/cases/1971/70-4</td>\n",
       "      <td>70-4</td>\n",
       "      <td>1971</td>\n",
       "      <td>Sally Reed</td>\n",
       "      <td>Cecil Reed</td>\n",
       "      <td>&lt;p&gt;The Idaho Probate Code specified that \"male...</td>\n",
       "      <td>378</td>\n",
       "      <td>7</td>\n",
       "      <td>0</td>\n",
       "      <td>True</td>\n",
       "      <td>majority opinion</td>\n",
       "      <td>reversed/remanded</td>\n",
       "      <td>Civil Rights</td>\n",
       "    </tr>\n",
       "    <tr>\n",
       "      <th>4</th>\n",
       "      <td>4</td>\n",
       "      <td>50643</td>\n",
       "      <td>Miller v. California</td>\n",
       "      <td>https://api.oyez.org/cases/1971/70-73</td>\n",
       "      <td>70-73</td>\n",
       "      <td>1971</td>\n",
       "      <td>Marvin Miller</td>\n",
       "      <td>California</td>\n",
       "      <td>&lt;p&gt;Miller, after conducting a mass mailing cam...</td>\n",
       "      <td>305</td>\n",
       "      <td>5</td>\n",
       "      <td>4</td>\n",
       "      <td>True</td>\n",
       "      <td>majority opinion</td>\n",
       "      <td>vacated/remanded</td>\n",
       "      <td>First Amendment</td>\n",
       "    </tr>\n",
       "    <tr>\n",
       "      <th>5</th>\n",
       "      <td>5</td>\n",
       "      <td>50644</td>\n",
       "      <td>Kleindienst v. Mandel</td>\n",
       "      <td>https://api.oyez.org/cases/1971/71-16</td>\n",
       "      <td>71-16</td>\n",
       "      <td>1971</td>\n",
       "      <td>Richard G. Kleindienst, Attorney General of th...</td>\n",
       "      <td>Ernest E. Mandel, et al.</td>\n",
       "      <td>&lt;p&gt;Ernest E. Mandel was a Belgian professional...</td>\n",
       "      <td>2282</td>\n",
       "      <td>6</td>\n",
       "      <td>3</td>\n",
       "      <td>True</td>\n",
       "      <td>majority opinion</td>\n",
       "      <td>reversed</td>\n",
       "      <td>First Amendment</td>\n",
       "    </tr>\n",
       "  </tbody>\n",
       "</table>\n",
       "</div>"
      ],
      "text/plain": [
       "   Unnamed: 0     ID                     name  \\\n",
       "1           1  50613      Stanley v. Illinois   \n",
       "2           2  50623  Giglio v. United States   \n",
       "3           3  50632             Reed v. Reed   \n",
       "4           4  50643     Miller v. California   \n",
       "5           5  50644    Kleindienst v. Mandel   \n",
       "\n",
       "                                      href   docket  term  \\\n",
       "1  https://api.oyez.org/cases/1971/70-5014  70-5014  1971   \n",
       "2    https://api.oyez.org/cases/1971/70-29    70-29  1971   \n",
       "3     https://api.oyez.org/cases/1971/70-4     70-4  1971   \n",
       "4    https://api.oyez.org/cases/1971/70-73    70-73  1971   \n",
       "5    https://api.oyez.org/cases/1971/71-16    71-16  1971   \n",
       "\n",
       "                                         first_party  \\\n",
       "1                                Peter Stanley, Sr.    \n",
       "2                                       John Giglio    \n",
       "3                                         Sally Reed   \n",
       "4                                      Marvin Miller   \n",
       "5  Richard G. Kleindienst, Attorney General of th...   \n",
       "\n",
       "               second_party  \\\n",
       "1                  Illinois   \n",
       "2             United States   \n",
       "3                Cecil Reed   \n",
       "4                California   \n",
       "5  Ernest E. Mandel, et al.   \n",
       "\n",
       "                                               facts  facts_len  \\\n",
       "1  <p>Joan Stanley had three children with Peter ...        757   \n",
       "2  <p>John Giglio was convicted of passing forged...        495   \n",
       "3  <p>The Idaho Probate Code specified that \"male...        378   \n",
       "4  <p>Miller, after conducting a mass mailing cam...        305   \n",
       "5  <p>Ernest E. Mandel was a Belgian professional...       2282   \n",
       "\n",
       "   majority_vote  minority_vote first_party_winner     decision_type  \\\n",
       "1              5              2               True  majority opinion   \n",
       "2              7              0               True  majority opinion   \n",
       "3              7              0               True  majority opinion   \n",
       "4              5              4               True  majority opinion   \n",
       "5              6              3               True  majority opinion   \n",
       "\n",
       "         disposition       issue_area  \n",
       "1  reversed/remanded     Civil Rights  \n",
       "2  reversed/remanded      Due Process  \n",
       "3  reversed/remanded     Civil Rights  \n",
       "4   vacated/remanded  First Amendment  \n",
       "5           reversed  First Amendment  "
      ]
     },
     "execution_count": 28,
     "metadata": {},
     "output_type": "execute_result"
    }
   ],
   "source": [
    "df.head()"
   ]
  },
  {
   "cell_type": "markdown",
   "id": "f44a8133",
   "metadata": {},
   "source": [
    "## Spilitting dataset in different datasets"
   ]
  },
  {
   "cell_type": "code",
   "execution_count": 39,
   "id": "84e56480",
   "metadata": {},
   "outputs": [
    {
     "data": {
      "text/html": [
       "<div>\n",
       "<style scoped>\n",
       "    .dataframe tbody tr th:only-of-type {\n",
       "        vertical-align: middle;\n",
       "    }\n",
       "\n",
       "    .dataframe tbody tr th {\n",
       "        vertical-align: top;\n",
       "    }\n",
       "\n",
       "    .dataframe thead th {\n",
       "        text-align: right;\n",
       "    }\n",
       "</style>\n",
       "<table border=\"1\" class=\"dataframe\">\n",
       "  <thead>\n",
       "    <tr style=\"text-align: right;\">\n",
       "      <th></th>\n",
       "      <th>disposition</th>\n",
       "      <th>decision_type</th>\n",
       "    </tr>\n",
       "  </thead>\n",
       "  <tbody>\n",
       "    <tr>\n",
       "      <th>0</th>\n",
       "      <td>reversed/remanded</td>\n",
       "      <td>majority opinion</td>\n",
       "    </tr>\n",
       "    <tr>\n",
       "      <th>1</th>\n",
       "      <td>reversed/remanded</td>\n",
       "      <td>majority opinion</td>\n",
       "    </tr>\n",
       "    <tr>\n",
       "      <th>2</th>\n",
       "      <td>reversed/remanded</td>\n",
       "      <td>majority opinion</td>\n",
       "    </tr>\n",
       "    <tr>\n",
       "      <th>3</th>\n",
       "      <td>vacated/remanded</td>\n",
       "      <td>majority opinion</td>\n",
       "    </tr>\n",
       "    <tr>\n",
       "      <th>4</th>\n",
       "      <td>reversed</td>\n",
       "      <td>majority opinion</td>\n",
       "    </tr>\n",
       "  </tbody>\n",
       "</table>\n",
       "</div>"
      ],
      "text/plain": [
       "         disposition     decision_type\n",
       "0  reversed/remanded  majority opinion\n",
       "1  reversed/remanded  majority opinion\n",
       "2  reversed/remanded  majority opinion\n",
       "3   vacated/remanded  majority opinion\n",
       "4           reversed  majority opinion"
      ]
     },
     "execution_count": 39,
     "metadata": {},
     "output_type": "execute_result"
    }
   ],
   "source": [
    "df_cat = df[['disposition', 'decision_type']]\n",
    "df_cat.reset_index(drop=True, inplace=True)\n",
    "df_cat.head()"
   ]
  },
  {
   "cell_type": "code",
   "execution_count": 47,
   "id": "32879183",
   "metadata": {},
   "outputs": [
    {
     "data": {
      "text/plain": [
       "0    True\n",
       "1    True\n",
       "2    True\n",
       "3    True\n",
       "4    True\n",
       "Name: first_party_winner, dtype: object"
      ]
     },
     "execution_count": 47,
     "metadata": {},
     "output_type": "execute_result"
    }
   ],
   "source": [
    "df_fpw = df['first_party_winner']\n",
    "df_fpw.reset_index(drop=True, inplace=True)\n",
    "df_fpw.head()"
   ]
  },
  {
   "cell_type": "code",
   "execution_count": 43,
   "id": "366453b8",
   "metadata": {},
   "outputs": [
    {
     "data": {
      "text/plain": [
       "0    <p>Joan Stanley had three children with Peter ...\n",
       "1    <p>John Giglio was convicted of passing forged...\n",
       "2    <p>The Idaho Probate Code specified that \"male...\n",
       "3    <p>Miller, after conducting a mass mailing cam...\n",
       "4    <p>Ernest E. Mandel was a Belgian professional...\n",
       "Name: facts, dtype: object"
      ]
     },
     "execution_count": 43,
     "metadata": {},
     "output_type": "execute_result"
    }
   ],
   "source": [
    "df_nlp = df['facts']\n",
    "df_nlp.reset_index(drop=True, inplace=True)\n",
    "df_nlp.head()"
   ]
  },
  {
   "cell_type": "code",
   "execution_count": 44,
   "id": "28afae57",
   "metadata": {},
   "outputs": [],
   "source": [
    "from sklearn import preprocessing\n",
    "label_encoder = preprocessing.LabelEncoder()\n",
    "df_fpw= label_encoder.fit_transform(df_fpw)"
   ]
  },
  {
   "cell_type": "code",
   "execution_count": 48,
   "id": "bc7cffb9",
   "metadata": {},
   "outputs": [
    {
     "data": {
      "text/html": [
       "<div>\n",
       "<style scoped>\n",
       "    .dataframe tbody tr th:only-of-type {\n",
       "        vertical-align: middle;\n",
       "    }\n",
       "\n",
       "    .dataframe tbody tr th {\n",
       "        vertical-align: top;\n",
       "    }\n",
       "\n",
       "    .dataframe thead th {\n",
       "        text-align: right;\n",
       "    }\n",
       "</style>\n",
       "<table border=\"1\" class=\"dataframe\">\n",
       "  <thead>\n",
       "    <tr style=\"text-align: right;\">\n",
       "      <th></th>\n",
       "      <th>first_party_winner</th>\n",
       "    </tr>\n",
       "  </thead>\n",
       "  <tbody>\n",
       "    <tr>\n",
       "      <th>0</th>\n",
       "      <td>True</td>\n",
       "    </tr>\n",
       "    <tr>\n",
       "      <th>1</th>\n",
       "      <td>True</td>\n",
       "    </tr>\n",
       "    <tr>\n",
       "      <th>2</th>\n",
       "      <td>True</td>\n",
       "    </tr>\n",
       "    <tr>\n",
       "      <th>3</th>\n",
       "      <td>True</td>\n",
       "    </tr>\n",
       "    <tr>\n",
       "      <th>4</th>\n",
       "      <td>True</td>\n",
       "    </tr>\n",
       "    <tr>\n",
       "      <th>...</th>\n",
       "      <td>...</td>\n",
       "    </tr>\n",
       "    <tr>\n",
       "      <th>3093</th>\n",
       "      <td>True</td>\n",
       "    </tr>\n",
       "    <tr>\n",
       "      <th>3094</th>\n",
       "      <td>True</td>\n",
       "    </tr>\n",
       "    <tr>\n",
       "      <th>3095</th>\n",
       "      <td>False</td>\n",
       "    </tr>\n",
       "    <tr>\n",
       "      <th>3096</th>\n",
       "      <td>True</td>\n",
       "    </tr>\n",
       "    <tr>\n",
       "      <th>3097</th>\n",
       "      <td>True</td>\n",
       "    </tr>\n",
       "  </tbody>\n",
       "</table>\n",
       "<p>3098 rows × 1 columns</p>\n",
       "</div>"
      ],
      "text/plain": [
       "     first_party_winner\n",
       "0                  True\n",
       "1                  True\n",
       "2                  True\n",
       "3                  True\n",
       "4                  True\n",
       "...                 ...\n",
       "3093               True\n",
       "3094               True\n",
       "3095              False\n",
       "3096               True\n",
       "3097               True\n",
       "\n",
       "[3098 rows x 1 columns]"
      ]
     },
     "execution_count": 48,
     "metadata": {},
     "output_type": "execute_result"
    }
   ],
   "source": [
    "df_target = pd.DataFrame(df_fpw, columns=['first_party_winner'])\n",
    "df_target"
   ]
  },
  {
   "cell_type": "code",
   "execution_count": 50,
   "id": "b09817c7",
   "metadata": {},
   "outputs": [
    {
     "data": {
      "text/html": [
       "<div>\n",
       "<style scoped>\n",
       "    .dataframe tbody tr th:only-of-type {\n",
       "        vertical-align: middle;\n",
       "    }\n",
       "\n",
       "    .dataframe tbody tr th {\n",
       "        vertical-align: top;\n",
       "    }\n",
       "\n",
       "    .dataframe thead th {\n",
       "        text-align: right;\n",
       "    }\n",
       "</style>\n",
       "<table border=\"1\" class=\"dataframe\">\n",
       "  <thead>\n",
       "    <tr style=\"text-align: right;\">\n",
       "      <th></th>\n",
       "      <th>disposition</th>\n",
       "      <th>decision_type</th>\n",
       "      <th>first_party_winner</th>\n",
       "    </tr>\n",
       "  </thead>\n",
       "  <tbody>\n",
       "    <tr>\n",
       "      <th>0</th>\n",
       "      <td>reversed/remanded</td>\n",
       "      <td>majority opinion</td>\n",
       "      <td>True</td>\n",
       "    </tr>\n",
       "    <tr>\n",
       "      <th>1</th>\n",
       "      <td>reversed/remanded</td>\n",
       "      <td>majority opinion</td>\n",
       "      <td>True</td>\n",
       "    </tr>\n",
       "    <tr>\n",
       "      <th>2</th>\n",
       "      <td>reversed/remanded</td>\n",
       "      <td>majority opinion</td>\n",
       "      <td>True</td>\n",
       "    </tr>\n",
       "    <tr>\n",
       "      <th>3</th>\n",
       "      <td>vacated/remanded</td>\n",
       "      <td>majority opinion</td>\n",
       "      <td>True</td>\n",
       "    </tr>\n",
       "    <tr>\n",
       "      <th>4</th>\n",
       "      <td>reversed</td>\n",
       "      <td>majority opinion</td>\n",
       "      <td>True</td>\n",
       "    </tr>\n",
       "    <tr>\n",
       "      <th>...</th>\n",
       "      <td>...</td>\n",
       "      <td>...</td>\n",
       "      <td>...</td>\n",
       "    </tr>\n",
       "    <tr>\n",
       "      <th>3093</th>\n",
       "      <td>reversed/remanded</td>\n",
       "      <td>majority opinion</td>\n",
       "      <td>True</td>\n",
       "    </tr>\n",
       "    <tr>\n",
       "      <th>3094</th>\n",
       "      <td>reversed/remanded</td>\n",
       "      <td>majority opinion</td>\n",
       "      <td>True</td>\n",
       "    </tr>\n",
       "    <tr>\n",
       "      <th>3095</th>\n",
       "      <td>affirmed</td>\n",
       "      <td>majority opinion</td>\n",
       "      <td>False</td>\n",
       "    </tr>\n",
       "    <tr>\n",
       "      <th>3096</th>\n",
       "      <td>vacated/remanded</td>\n",
       "      <td>majority opinion</td>\n",
       "      <td>True</td>\n",
       "    </tr>\n",
       "    <tr>\n",
       "      <th>3097</th>\n",
       "      <td>reversed/remanded</td>\n",
       "      <td>majority opinion</td>\n",
       "      <td>True</td>\n",
       "    </tr>\n",
       "  </tbody>\n",
       "</table>\n",
       "<p>3098 rows × 3 columns</p>\n",
       "</div>"
      ],
      "text/plain": [
       "            disposition     decision_type first_party_winner\n",
       "0     reversed/remanded  majority opinion               True\n",
       "1     reversed/remanded  majority opinion               True\n",
       "2     reversed/remanded  majority opinion               True\n",
       "3      vacated/remanded  majority opinion               True\n",
       "4              reversed  majority opinion               True\n",
       "...                 ...               ...                ...\n",
       "3093  reversed/remanded  majority opinion               True\n",
       "3094  reversed/remanded  majority opinion               True\n",
       "3095           affirmed  majority opinion              False\n",
       "3096   vacated/remanded  majority opinion               True\n",
       "3097  reversed/remanded  majority opinion               True\n",
       "\n",
       "[3098 rows x 3 columns]"
      ]
     },
     "execution_count": 50,
     "metadata": {},
     "output_type": "execute_result"
    }
   ],
   "source": [
    "frames = [df_cat, df_target]\n",
    "df_concat = pd.concat(frames, axis=1, join='inner')\n",
    "df_concat"
   ]
  },
  {
   "cell_type": "code",
   "execution_count": 51,
   "id": "098c8f59",
   "metadata": {},
   "outputs": [],
   "source": [
    "df_nlp1 = pd.DataFrame(df_nlp, columns=['facts'])"
   ]
  },
  {
   "cell_type": "code",
   "execution_count": 52,
   "id": "2c57c4a6",
   "metadata": {},
   "outputs": [
    {
     "data": {
      "text/html": [
       "<div>\n",
       "<style scoped>\n",
       "    .dataframe tbody tr th:only-of-type {\n",
       "        vertical-align: middle;\n",
       "    }\n",
       "\n",
       "    .dataframe tbody tr th {\n",
       "        vertical-align: top;\n",
       "    }\n",
       "\n",
       "    .dataframe thead th {\n",
       "        text-align: right;\n",
       "    }\n",
       "</style>\n",
       "<table border=\"1\" class=\"dataframe\">\n",
       "  <thead>\n",
       "    <tr style=\"text-align: right;\">\n",
       "      <th></th>\n",
       "      <th>facts</th>\n",
       "    </tr>\n",
       "  </thead>\n",
       "  <tbody>\n",
       "    <tr>\n",
       "      <th>0</th>\n",
       "      <td>Joan Stanley had three children with Peter Sta...</td>\n",
       "    </tr>\n",
       "    <tr>\n",
       "      <th>1</th>\n",
       "      <td>John Giglio was convicted of passing forged mo...</td>\n",
       "    </tr>\n",
       "    <tr>\n",
       "      <th>2</th>\n",
       "      <td>The Idaho Probate Code specified that \"males m...</td>\n",
       "    </tr>\n",
       "    <tr>\n",
       "      <th>3</th>\n",
       "      <td>Miller, after conducting a mass mailing campai...</td>\n",
       "    </tr>\n",
       "    <tr>\n",
       "      <th>4</th>\n",
       "      <td>Ernest E. Mandel was a Belgian professional jo...</td>\n",
       "    </tr>\n",
       "    <tr>\n",
       "      <th>...</th>\n",
       "      <td>...</td>\n",
       "    </tr>\n",
       "    <tr>\n",
       "      <th>3093</th>\n",
       "      <td>For over a century after the Alaska Purchase i...</td>\n",
       "    </tr>\n",
       "    <tr>\n",
       "      <th>3094</th>\n",
       "      <td>Refugio Palomar-Santiago, a Mexican national, ...</td>\n",
       "    </tr>\n",
       "    <tr>\n",
       "      <th>3095</th>\n",
       "      <td>Tarahrick Terry pleaded guilty to one count of...</td>\n",
       "    </tr>\n",
       "    <tr>\n",
       "      <th>3096</th>\n",
       "      <td>Joshua James Cooley was parked in his pickup t...</td>\n",
       "    </tr>\n",
       "    <tr>\n",
       "      <th>3097</th>\n",
       "      <td>The Natural Gas Act (NGA), 15 U.S.C. §§ 717–71...</td>\n",
       "    </tr>\n",
       "  </tbody>\n",
       "</table>\n",
       "<p>3098 rows × 1 columns</p>\n",
       "</div>"
      ],
      "text/plain": [
       "                                                  facts\n",
       "0     Joan Stanley had three children with Peter Sta...\n",
       "1     John Giglio was convicted of passing forged mo...\n",
       "2     The Idaho Probate Code specified that \"males m...\n",
       "3     Miller, after conducting a mass mailing campai...\n",
       "4     Ernest E. Mandel was a Belgian professional jo...\n",
       "...                                                 ...\n",
       "3093  For over a century after the Alaska Purchase i...\n",
       "3094  Refugio Palomar-Santiago, a Mexican national, ...\n",
       "3095  Tarahrick Terry pleaded guilty to one count of...\n",
       "3096  Joshua James Cooley was parked in his pickup t...\n",
       "3097  The Natural Gas Act (NGA), 15 U.S.C. §§ 717–71...\n",
       "\n",
       "[3098 rows x 1 columns]"
      ]
     },
     "execution_count": 52,
     "metadata": {},
     "output_type": "execute_result"
    }
   ],
   "source": [
    "df_nlp1['facts'] = df_nlp1['facts'].str.replace(r'<[^<>]*>', '', regex=True)\n",
    "df_nlp1"
   ]
  },
  {
   "cell_type": "markdown",
   "id": "733afa47",
   "metadata": {},
   "source": [
    "## Cleaning and Tokenization"
   ]
  },
  {
   "cell_type": "code",
   "execution_count": 53,
   "id": "9113d031",
   "metadata": {},
   "outputs": [],
   "source": [
    "corpus = df_nlp1[\"facts\"]\n",
    "lst_tokens = nltk.tokenize.word_tokenize(corpus.str.cat(sep=\" \"))"
   ]
  },
  {
   "cell_type": "code",
   "execution_count": 54,
   "id": "fa6fca04",
   "metadata": {},
   "outputs": [],
   "source": [
    "ps = nltk.stem.porter.PorterStemmer()\n",
    "lem = nltk.stem.wordnet.WordNetLemmatizer()"
   ]
  },
  {
   "cell_type": "code",
   "execution_count": 55,
   "id": "eb6db55b",
   "metadata": {},
   "outputs": [],
   "source": [
    "lst_stopwords = nltk.corpus.stopwords.words(\"english\")"
   ]
  },
  {
   "cell_type": "code",
   "execution_count": 58,
   "id": "303e8ca2",
   "metadata": {},
   "outputs": [],
   "source": [
    "def utils_preprocess_text(text, flg_stemm=False, flg_lemm=True, lst_stopwords=None):\n",
    "    ## clean (convert to lowercase and remove punctuations and characters and then strip)\n",
    "    text = re.sub(r'[^\\w\\s]', '', str(text).lower().strip())\n",
    "            \n",
    "    ## Tokenize (convert from string to list)\n",
    "    lst_text = text.split()    ## remove Stopwords\n",
    "    if lst_stopwords is not None:\n",
    "        lst_text = [word for word in lst_text if word not in \n",
    "                    lst_stopwords]\n",
    "                \n",
    "    ## Stemming (remove -ing, -ly, ...)\n",
    "    if flg_stemm == True:\n",
    "        ps = nltk.stem.porter.PorterStemmer()\n",
    "        lst_text = [ps.stem(word) for word in lst_text]\n",
    "                \n",
    "    ## Lemmatisation (convert the word into root word)\n",
    "    if flg_lemm == True:\n",
    "        lem = nltk.stem.wordnet.WordNetLemmatizer()\n",
    "        lst_text = [lem.lemmatize(word) for word in lst_text]\n",
    "            \n",
    "    ## back to string from list\n",
    "    text = \" \".join(lst_text)\n",
    "    return text"
   ]
  },
  {
   "cell_type": "code",
   "execution_count": 59,
   "id": "291410aa",
   "metadata": {},
   "outputs": [],
   "source": [
    "df_nlp1[\"facts_clean\"] = df_nlp1[\"facts\"].apply(lambda x: utils_preprocess_text(x, flg_stemm=False,\n",
    "                                            flg_lemm=True, lst_stopwords=lst_stopwords))"
   ]
  },
  {
   "cell_type": "code",
   "execution_count": 60,
   "id": "379492d8",
   "metadata": {},
   "outputs": [
    {
     "data": {
      "text/html": [
       "<div>\n",
       "<style scoped>\n",
       "    .dataframe tbody tr th:only-of-type {\n",
       "        vertical-align: middle;\n",
       "    }\n",
       "\n",
       "    .dataframe tbody tr th {\n",
       "        vertical-align: top;\n",
       "    }\n",
       "\n",
       "    .dataframe thead th {\n",
       "        text-align: right;\n",
       "    }\n",
       "</style>\n",
       "<table border=\"1\" class=\"dataframe\">\n",
       "  <thead>\n",
       "    <tr style=\"text-align: right;\">\n",
       "      <th></th>\n",
       "      <th>facts</th>\n",
       "      <th>facts_clean</th>\n",
       "    </tr>\n",
       "  </thead>\n",
       "  <tbody>\n",
       "    <tr>\n",
       "      <th>0</th>\n",
       "      <td>Joan Stanley had three children with Peter Sta...</td>\n",
       "      <td>joan stanley three child peter stanley stanley...</td>\n",
       "    </tr>\n",
       "    <tr>\n",
       "      <th>1</th>\n",
       "      <td>John Giglio was convicted of passing forged mo...</td>\n",
       "      <td>john giglio convicted passing forged money ord...</td>\n",
       "    </tr>\n",
       "    <tr>\n",
       "      <th>2</th>\n",
       "      <td>The Idaho Probate Code specified that \"males m...</td>\n",
       "      <td>idaho probate code specified male must preferr...</td>\n",
       "    </tr>\n",
       "    <tr>\n",
       "      <th>3</th>\n",
       "      <td>Miller, after conducting a mass mailing campai...</td>\n",
       "      <td>miller conducting mass mailing campaign advert...</td>\n",
       "    </tr>\n",
       "    <tr>\n",
       "      <th>4</th>\n",
       "      <td>Ernest E. Mandel was a Belgian professional jo...</td>\n",
       "      <td>ernest e mandel belgian professional journalis...</td>\n",
       "    </tr>\n",
       "    <tr>\n",
       "      <th>...</th>\n",
       "      <td>...</td>\n",
       "      <td>...</td>\n",
       "    </tr>\n",
       "    <tr>\n",
       "      <th>3093</th>\n",
       "      <td>For over a century after the Alaska Purchase i...</td>\n",
       "      <td>century alaska purchase 1867 federal governmen...</td>\n",
       "    </tr>\n",
       "    <tr>\n",
       "      <th>3094</th>\n",
       "      <td>Refugio Palomar-Santiago, a Mexican national, ...</td>\n",
       "      <td>refugio palomarsantiago mexican national grant...</td>\n",
       "    </tr>\n",
       "    <tr>\n",
       "      <th>3095</th>\n",
       "      <td>Tarahrick Terry pleaded guilty to one count of...</td>\n",
       "      <td>tarahrick terry pleaded guilty one count posse...</td>\n",
       "    </tr>\n",
       "    <tr>\n",
       "      <th>3096</th>\n",
       "      <td>Joshua James Cooley was parked in his pickup t...</td>\n",
       "      <td>joshua james cooley parked pickup truck side r...</td>\n",
       "    </tr>\n",
       "    <tr>\n",
       "      <th>3097</th>\n",
       "      <td>The Natural Gas Act (NGA), 15 U.S.C. §§ 717–71...</td>\n",
       "      <td>natural gas act nga 15 usc 717717z permit priv...</td>\n",
       "    </tr>\n",
       "  </tbody>\n",
       "</table>\n",
       "<p>3098 rows × 2 columns</p>\n",
       "</div>"
      ],
      "text/plain": [
       "                                                  facts  \\\n",
       "0     Joan Stanley had three children with Peter Sta...   \n",
       "1     John Giglio was convicted of passing forged mo...   \n",
       "2     The Idaho Probate Code specified that \"males m...   \n",
       "3     Miller, after conducting a mass mailing campai...   \n",
       "4     Ernest E. Mandel was a Belgian professional jo...   \n",
       "...                                                 ...   \n",
       "3093  For over a century after the Alaska Purchase i...   \n",
       "3094  Refugio Palomar-Santiago, a Mexican national, ...   \n",
       "3095  Tarahrick Terry pleaded guilty to one count of...   \n",
       "3096  Joshua James Cooley was parked in his pickup t...   \n",
       "3097  The Natural Gas Act (NGA), 15 U.S.C. §§ 717–71...   \n",
       "\n",
       "                                            facts_clean  \n",
       "0     joan stanley three child peter stanley stanley...  \n",
       "1     john giglio convicted passing forged money ord...  \n",
       "2     idaho probate code specified male must preferr...  \n",
       "3     miller conducting mass mailing campaign advert...  \n",
       "4     ernest e mandel belgian professional journalis...  \n",
       "...                                                 ...  \n",
       "3093  century alaska purchase 1867 federal governmen...  \n",
       "3094  refugio palomarsantiago mexican national grant...  \n",
       "3095  tarahrick terry pleaded guilty one count posse...  \n",
       "3096  joshua james cooley parked pickup truck side r...  \n",
       "3097  natural gas act nga 15 usc 717717z permit priv...  \n",
       "\n",
       "[3098 rows x 2 columns]"
      ]
     },
     "execution_count": 60,
     "metadata": {},
     "output_type": "execute_result"
    }
   ],
   "source": [
    "df_nlp1"
   ]
  },
  {
   "cell_type": "code",
   "execution_count": 62,
   "id": "670c46a3",
   "metadata": {},
   "outputs": [],
   "source": [
    "df_nlp2 = pd.concat([df_nlp1,df_target['first_party_winner']],axis=1, join='inner')"
   ]
  },
  {
   "cell_type": "code",
   "execution_count": 63,
   "id": "51e7f3af",
   "metadata": {},
   "outputs": [
    {
     "data": {
      "text/html": [
       "<div>\n",
       "<style scoped>\n",
       "    .dataframe tbody tr th:only-of-type {\n",
       "        vertical-align: middle;\n",
       "    }\n",
       "\n",
       "    .dataframe tbody tr th {\n",
       "        vertical-align: top;\n",
       "    }\n",
       "\n",
       "    .dataframe thead th {\n",
       "        text-align: right;\n",
       "    }\n",
       "</style>\n",
       "<table border=\"1\" class=\"dataframe\">\n",
       "  <thead>\n",
       "    <tr style=\"text-align: right;\">\n",
       "      <th></th>\n",
       "      <th>facts</th>\n",
       "      <th>facts_clean</th>\n",
       "      <th>first_party_winner</th>\n",
       "    </tr>\n",
       "  </thead>\n",
       "  <tbody>\n",
       "    <tr>\n",
       "      <th>0</th>\n",
       "      <td>Joan Stanley had three children with Peter Sta...</td>\n",
       "      <td>joan stanley three child peter stanley stanley...</td>\n",
       "      <td>True</td>\n",
       "    </tr>\n",
       "    <tr>\n",
       "      <th>1</th>\n",
       "      <td>John Giglio was convicted of passing forged mo...</td>\n",
       "      <td>john giglio convicted passing forged money ord...</td>\n",
       "      <td>True</td>\n",
       "    </tr>\n",
       "    <tr>\n",
       "      <th>2</th>\n",
       "      <td>The Idaho Probate Code specified that \"males m...</td>\n",
       "      <td>idaho probate code specified male must preferr...</td>\n",
       "      <td>True</td>\n",
       "    </tr>\n",
       "    <tr>\n",
       "      <th>3</th>\n",
       "      <td>Miller, after conducting a mass mailing campai...</td>\n",
       "      <td>miller conducting mass mailing campaign advert...</td>\n",
       "      <td>True</td>\n",
       "    </tr>\n",
       "    <tr>\n",
       "      <th>4</th>\n",
       "      <td>Ernest E. Mandel was a Belgian professional jo...</td>\n",
       "      <td>ernest e mandel belgian professional journalis...</td>\n",
       "      <td>True</td>\n",
       "    </tr>\n",
       "  </tbody>\n",
       "</table>\n",
       "</div>"
      ],
      "text/plain": [
       "                                               facts  \\\n",
       "0  Joan Stanley had three children with Peter Sta...   \n",
       "1  John Giglio was convicted of passing forged mo...   \n",
       "2  The Idaho Probate Code specified that \"males m...   \n",
       "3  Miller, after conducting a mass mailing campai...   \n",
       "4  Ernest E. Mandel was a Belgian professional jo...   \n",
       "\n",
       "                                         facts_clean first_party_winner  \n",
       "0  joan stanley three child peter stanley stanley...               True  \n",
       "1  john giglio convicted passing forged money ord...               True  \n",
       "2  idaho probate code specified male must preferr...               True  \n",
       "3  miller conducting mass mailing campaign advert...               True  \n",
       "4  ernest e mandel belgian professional journalis...               True  "
      ]
     },
     "execution_count": 63,
     "metadata": {},
     "output_type": "execute_result"
    }
   ],
   "source": [
    "df_nlp2.head()"
   ]
  },
  {
   "cell_type": "code",
   "execution_count": 64,
   "id": "46a093d7",
   "metadata": {},
   "outputs": [
    {
     "data": {
      "text/plain": [
       "True     2067\n",
       "False    1031\n",
       "Name: first_party_winner, dtype: int64"
      ]
     },
     "execution_count": 64,
     "metadata": {},
     "output_type": "execute_result"
    }
   ],
   "source": [
    "df_nlp2[\"first_party_winner\"].value_counts()"
   ]
  },
  {
   "cell_type": "code",
   "execution_count": 66,
   "id": "db2413a4",
   "metadata": {},
   "outputs": [
    {
     "data": {
      "image/png": "[encoded data removed]",
      "text/plain": [
       "<Figure size 640x480 with 2 Axes>"
      ]
     },
     "metadata": {},
     "output_type": "display_data"
    }
   ],
   "source": [
    "y = 1\n",
    "corpus = df_nlp2[df_nlp2[\"first_party_winner\"]== y][\"facts_clean\"]\n",
    "lst_tokens = nltk.tokenize.word_tokenize(corpus.str.cat(sep=\" \"))\n",
    "fig, ax = plt.subplots(nrows=2, ncols=1)\n",
    "fig.suptitle(\"Most frequent words\", fontsize=15)\n",
    "\n",
    "dic_words_freq = nltk.FreqDist(lst_tokens)\n",
    "dtf_uni = pd.DataFrame(dic_words_freq.most_common(), \n",
    "                       columns=[\"Word\",\"Freq\"])\n",
    "dtf_uni.set_index(\"Word\").iloc[:10,:].sort_values(by=\"Freq\").plot(\n",
    "                  kind=\"barh\", title=\"Unigrams\", ax=ax[0], \n",
    "                  legend=False).grid(axis='x')\n",
    "ax[0].set(ylabel=None)\n",
    "    \n",
    "## bigrams\n",
    "dic_words_freq = nltk.FreqDist(nltk.ngrams(lst_tokens, 2))\n",
    "dtf_bi = pd.DataFrame(dic_words_freq.most_common(), \n",
    "                      columns=[\"Word\",\"Freq\"])\n",
    "dtf_bi[\"Word\"] = dtf_bi[\"Word\"].apply(lambda x: \" \".join(\n",
    "                   string for string in x) )\n",
    "dtf_bi.set_index(\"Word\").iloc[:10,:].sort_values(by=\"Freq\").plot(\n",
    "                  kind=\"barh\", title=\"Bigrams\", ax=ax[1],\n",
    "                  legend=False).grid(axis='x')\n",
    "ax[1].set(ylabel=None)\n",
    "plt.show()"
   ]
  },
  {
   "cell_type": "code",
   "execution_count": 70,
   "id": "7e17516a",
   "metadata": {},
   "outputs": [],
   "source": [
    "import wordcloud"
   ]
  },
  {
   "cell_type": "code",
   "execution_count": 71,
   "id": "1bffb492",
   "metadata": {},
   "outputs": [
    {
     "data": {
      "image/png": "[encoded data removed]",
      "text/plain": [
       "<Figure size 640x480 with 1 Axes>"
      ]
     },
     "metadata": {},
     "output_type": "display_data"
    }
   ],
   "source": [
    "wc = wordcloud.WordCloud(background_color='black', max_words=100, \n",
    "                         max_font_size=35)\n",
    "wc = wc.generate(str(corpus))\n",
    "fig = plt.figure(num=1)\n",
    "plt.axis('off')\n",
    "plt.imshow(wc, cmap=None)\n",
    "plt.show()"
   ]
  },
  {
   "cell_type": "code",
   "execution_count": 72,
   "id": "95af79e3",
   "metadata": {},
   "outputs": [],
   "source": [
    "import gensim.downloader as gensim_api\n",
    "import gensim\n",
    "import seaborn as sns"
   ]
  },
  {
   "cell_type": "code",
   "execution_count": 74,
   "id": "b22d92e2",
   "metadata": {},
   "outputs": [
    {
     "data": {
      "image/png": "[encoded data removed]",
      "text/plain": [
       "<Figure size 640x480 with 1 Axes>"
      ]
     },
     "metadata": {},
     "output_type": "display_data"
    }
   ],
   "source": [
    "y = 1\n",
    "corpus = df_nlp2[df_nlp2[\"first_party_winner\"]==y][\"facts_clean\"]\n",
    "## pre-process corpus\n",
    "lst_corpus = []\n",
    "for string in corpus:\n",
    "    lst_words = string.split()\n",
    "    lst_grams = [\" \".join(lst_words[i:i + 2]) for i in range(0, \n",
    "                     len(lst_words), 2)]\n",
    "    lst_corpus.append(lst_grams)## map words to an id\n",
    "id2word = gensim.corpora.Dictionary(lst_corpus)## create dictionary word:freq\n",
    "dic_corpus = [id2word.doc2bow(word) for word in lst_corpus] ## train LDA\n",
    "lda_model = gensim.models.ldamodel.LdaModel(corpus=dic_corpus, id2word=id2word, num_topics=7, \n",
    "            random_state=123, update_every=1, chunksize=100, passes=10, alpha='auto', per_word_topics=True)\n",
    "   \n",
    "## output\n",
    "lst_dics = []\n",
    "for i in range(0,3):\n",
    "    lst_tuples = lda_model.get_topic_terms(i)\n",
    "    for tupla in lst_tuples:\n",
    "        lst_dics.append({\"topic\":i, \"id\":tupla[0], \n",
    "                         \"word\":id2word[tupla[0]], \n",
    "                         \"weight\":tupla[1]})\n",
    "dtf_topics = pd.DataFrame(lst_dics, \n",
    "                         columns=['topic','id','word','weight'])\n",
    "\n",
    "## plot\n",
    "fig, ax = plt.subplots()\n",
    "sns.barplot(y=\"word\", x=\"weight\", hue=\"topic\", data=dtf_topics, dodge=False, ax=ax).set_title('Main Topics')\n",
    "ax.set(ylabel=\"\", xlabel=\"Word Importance\")\n",
    "plt.show()"
   ]
  },
  {
   "cell_type": "code",
   "execution_count": 76,
   "id": "794bd3d1",
   "metadata": {},
   "outputs": [
    {
     "data": {
      "image/png": "[encoded data removed]",
      "text/plain": [
       "<Figure size 640x480 with 1 Axes>"
      ]
     },
     "metadata": {},
     "output_type": "display_data"
    }
   ],
   "source": [
    "y = 0\n",
    "corpus = df_nlp2[df_nlp2[\"first_party_winner\"]==y][\"facts_clean\"]\n",
    "## pre-process corpus\n",
    "lst_corpus = []\n",
    "for string in corpus:\n",
    "    lst_words = string.split()\n",
    "    lst_grams = [\" \".join(lst_words[i:i + 2]) for i in range(0, \n",
    "                     len(lst_words), 2)]\n",
    "    lst_corpus.append(lst_grams)## map words to an id\n",
    "id2word = gensim.corpora.Dictionary(lst_corpus)## create dictionary word:freq\n",
    "dic_corpus = [id2word.doc2bow(word) for word in lst_corpus] ## train LDA\n",
    "lda_model = gensim.models.ldamodel.LdaModel(corpus=dic_corpus, id2word=id2word, num_topics=7,\n",
    "            random_state=123, update_every=1, chunksize=100, passes=10, alpha='auto', per_word_topics=True)\n",
    "   \n",
    "## output\n",
    "lst_dics = []\n",
    "for i in range(0,3):\n",
    "    lst_tuples = lda_model.get_topic_terms(i)\n",
    "    for tupla in lst_tuples:\n",
    "        lst_dics.append({\"topic\":i, \"id\":tupla[0], \n",
    "                         \"word\":id2word[tupla[0]], \n",
    "                         \"weight\":tupla[1]})\n",
    "dtf_topics = pd.DataFrame(lst_dics, \n",
    "                         columns=['topic','id','word','weight'])\n",
    "\n",
    "## plot\n",
    "fig, ax = plt.subplots()\n",
    "sns.barplot(y=\"word\", x=\"weight\", hue=\"topic\", data=dtf_topics, dodge=False, ax=ax).set_title('Main Topics')\n",
    "ax.set(ylabel=\"\", xlabel=\"Word Importance\")\n",
    "plt.show()"
   ]
  },
  {
   "cell_type": "code",
   "execution_count": 77,
   "id": "e17ee758",
   "metadata": {},
   "outputs": [],
   "source": [
    "from sklearn.pipeline import Pipeline\n",
    "from sklearn.feature_extraction.text import CountVectorizer"
   ]
  },
  {
   "cell_type": "code",
   "execution_count": 78,
   "id": "eafb7d98",
   "metadata": {},
   "outputs": [],
   "source": [
    "vectorizer = CountVectorizer()"
   ]
  },
  {
   "cell_type": "code",
   "execution_count": 80,
   "id": "2e8dad16",
   "metadata": {},
   "outputs": [],
   "source": [
    "df_nlp2 = pd.concat([df_nlp1,df_target['first_party_winner']],axis=1, join='inner')"
   ]
  },
  {
   "cell_type": "code",
   "execution_count": 91,
   "id": "e9b5fe85",
   "metadata": {},
   "outputs": [],
   "source": [
    "xfeatures = df_nlp2['facts_clean']\n",
    "ylabel = df_nlp2['first_party_winner']\n",
    "ylabel = ylabel.astype('int')"
   ]
  },
  {
   "cell_type": "markdown",
   "id": "3091bd67",
   "metadata": {},
   "source": [
    "## Training Testing and Modelling"
   ]
  },
  {
   "cell_type": "code",
   "execution_count": 92,
   "id": "95ddaa1d",
   "metadata": {},
   "outputs": [],
   "source": [
    "X_train, X_test, y_train, y_test = train_test_split(xfeatures, ylabel, test_size=0.25)"
   ]
  },
  {
   "cell_type": "code",
   "execution_count": 93,
   "id": "d245d57e",
   "metadata": {},
   "outputs": [],
   "source": [
    "pipe = Pipeline(steps=[('cv',CountVectorizer()),('lr',LogisticRegression(solver='liblinear'))])"
   ]
  },
  {
   "cell_type": "code",
   "execution_count": 94,
   "id": "f9807c1b",
   "metadata": {},
   "outputs": [
    {
     "data": {
      "text/plain": [
       "Pipeline(steps=[('cv', CountVectorizer()),\n",
       "                ('lr', LogisticRegression(solver='liblinear'))])"
      ]
     },
     "execution_count": 94,
     "metadata": {},
     "output_type": "execute_result"
    }
   ],
   "source": [
    "pipe.fit(X_train,y_train)"
   ]
  },
  {
   "cell_type": "code",
   "execution_count": 95,
   "id": "853d1a0b",
   "metadata": {},
   "outputs": [
    {
     "data": {
      "text/plain": [
       "0.6412903225806451"
      ]
     },
     "execution_count": 95,
     "metadata": {},
     "output_type": "execute_result"
    }
   ],
   "source": [
    "pipe.score(X_test,y_test)"
   ]
  },
  {
   "cell_type": "code",
   "execution_count": 96,
   "id": "84366f1e",
   "metadata": {},
   "outputs": [],
   "source": [
    "from sklearn.ensemble import RandomForestClassifier\n",
    "from sklearn.neighbors import KNeighborsClassifier"
   ]
  },
  {
   "cell_type": "code",
   "execution_count": 97,
   "id": "a5baa426",
   "metadata": {},
   "outputs": [],
   "source": [
    "pipe1= Pipeline(steps=[('cv',CountVectorizer()),('rf',RandomForestClassifier())])"
   ]
  },
  {
   "cell_type": "code",
   "execution_count": 98,
   "id": "50962000",
   "metadata": {},
   "outputs": [
    {
     "data": {
      "text/plain": [
       "Pipeline(steps=[('cv', CountVectorizer()), ('rf', RandomForestClassifier())])"
      ]
     },
     "execution_count": 98,
     "metadata": {},
     "output_type": "execute_result"
    }
   ],
   "source": [
    "pipe1.fit(X_train,y_train)"
   ]
  },
  {
   "cell_type": "code",
   "execution_count": 99,
   "id": "6b1bc77e",
   "metadata": {},
   "outputs": [
    {
     "data": {
      "text/plain": [
       "1.0"
      ]
     },
     "execution_count": 99,
     "metadata": {},
     "output_type": "execute_result"
    }
   ],
   "source": [
    "pipe1.score(X_train,y_train)"
   ]
  },
  {
   "cell_type": "code",
   "execution_count": 100,
   "id": "d3654c8c",
   "metadata": {},
   "outputs": [
    {
     "data": {
      "text/plain": [
       "0.6683870967741935"
      ]
     },
     "execution_count": 100,
     "metadata": {},
     "output_type": "execute_result"
    }
   ],
   "source": [
    "pipe1.score(X_test,y_test)"
   ]
  },
  {
   "cell_type": "code",
   "execution_count": 101,
   "id": "8718b9f7",
   "metadata": {},
   "outputs": [],
   "source": [
    "pipe2= Pipeline(steps=[('cv',CountVectorizer()),('rf',KNeighborsClassifier(n_neighbors=3))])"
   ]
  },
  {
   "cell_type": "code",
   "execution_count": 102,
   "id": "be114ed3",
   "metadata": {},
   "outputs": [
    {
     "data": {
      "text/plain": [
       "Pipeline(steps=[('cv', CountVectorizer()),\n",
       "                ('rf', KNeighborsClassifier(n_neighbors=3))])"
      ]
     },
     "execution_count": 102,
     "metadata": {},
     "output_type": "execute_result"
    }
   ],
   "source": [
    "pipe2.fit(X_train,y_train)"
   ]
  },
  {
   "cell_type": "code",
   "execution_count": 104,
   "id": "2af082a8",
   "metadata": {},
   "outputs": [
    {
     "name": "stderr",
     "output_type": "stream",
     "text": [
      "C:\\Users\\Acer\\anaconda3\\lib\\site-packages\\sklearn\\neighbors\\_classification.py:228: FutureWarning: Unlike other reduction functions (e.g. `skew`, `kurtosis`), the default behavior of `mode` typically preserves the axis it acts along. In SciPy 1.11.0, this behavior will change: the default value of `keepdims` will become False, the `axis` over which the statistic is taken will be eliminated, and the value None will no longer be accepted. Set `keepdims` to True or False to avoid this warning.\n",
      "  mode, _ = stats.mode(_y[neigh_ind, k], axis=1)\n"
     ]
    },
    {
     "data": {
      "text/plain": [
       "0.7589324149806285"
      ]
     },
     "execution_count": 104,
     "metadata": {},
     "output_type": "execute_result"
    }
   ],
   "source": [
    "pipe2.score(X_train,y_train)"
   ]
  },
  {
   "cell_type": "code",
   "execution_count": 105,
   "id": "3b4a200d",
   "metadata": {},
   "outputs": [
    {
     "name": "stderr",
     "output_type": "stream",
     "text": [
      "C:\\Users\\Acer\\anaconda3\\lib\\site-packages\\sklearn\\neighbors\\_classification.py:228: FutureWarning: Unlike other reduction functions (e.g. `skew`, `kurtosis`), the default behavior of `mode` typically preserves the axis it acts along. In SciPy 1.11.0, this behavior will change: the default value of `keepdims` will become False, the `axis` over which the statistic is taken will be eliminated, and the value None will no longer be accepted. Set `keepdims` to True or False to avoid this warning.\n",
      "  mode, _ = stats.mode(_y[neigh_ind, k], axis=1)\n"
     ]
    },
    {
     "data": {
      "text/plain": [
       "0.6464516129032258"
      ]
     },
     "execution_count": 105,
     "metadata": {},
     "output_type": "execute_result"
    }
   ],
   "source": [
    "pipe2.score(X_test,y_test)"
   ]
  },
  {
   "cell_type": "code",
   "execution_count": 106,
   "id": "a283c5c4",
   "metadata": {},
   "outputs": [],
   "source": [
    "df_nl1=pd.concat([df_nlp2,df_cat],axis=1,join='inner')"
   ]
  },
  {
   "cell_type": "code",
   "execution_count": 107,
   "id": "1747091d",
   "metadata": {},
   "outputs": [
    {
     "data": {
      "text/html": [
       "<div>\n",
       "<style scoped>\n",
       "    .dataframe tbody tr th:only-of-type {\n",
       "        vertical-align: middle;\n",
       "    }\n",
       "\n",
       "    .dataframe tbody tr th {\n",
       "        vertical-align: top;\n",
       "    }\n",
       "\n",
       "    .dataframe thead th {\n",
       "        text-align: right;\n",
       "    }\n",
       "</style>\n",
       "<table border=\"1\" class=\"dataframe\">\n",
       "  <thead>\n",
       "    <tr style=\"text-align: right;\">\n",
       "      <th></th>\n",
       "      <th>facts</th>\n",
       "      <th>facts_clean</th>\n",
       "      <th>first_party_winner</th>\n",
       "      <th>disposition</th>\n",
       "      <th>decision_type</th>\n",
       "    </tr>\n",
       "  </thead>\n",
       "  <tbody>\n",
       "    <tr>\n",
       "      <th>0</th>\n",
       "      <td>Joan Stanley had three children with Peter Sta...</td>\n",
       "      <td>joan stanley three child peter stanley stanley...</td>\n",
       "      <td>True</td>\n",
       "      <td>reversed/remanded</td>\n",
       "      <td>majority opinion</td>\n",
       "    </tr>\n",
       "    <tr>\n",
       "      <th>1</th>\n",
       "      <td>John Giglio was convicted of passing forged mo...</td>\n",
       "      <td>john giglio convicted passing forged money ord...</td>\n",
       "      <td>True</td>\n",
       "      <td>reversed/remanded</td>\n",
       "      <td>majority opinion</td>\n",
       "    </tr>\n",
       "    <tr>\n",
       "      <th>2</th>\n",
       "      <td>The Idaho Probate Code specified that \"males m...</td>\n",
       "      <td>idaho probate code specified male must preferr...</td>\n",
       "      <td>True</td>\n",
       "      <td>reversed/remanded</td>\n",
       "      <td>majority opinion</td>\n",
       "    </tr>\n",
       "    <tr>\n",
       "      <th>3</th>\n",
       "      <td>Miller, after conducting a mass mailing campai...</td>\n",
       "      <td>miller conducting mass mailing campaign advert...</td>\n",
       "      <td>True</td>\n",
       "      <td>vacated/remanded</td>\n",
       "      <td>majority opinion</td>\n",
       "    </tr>\n",
       "    <tr>\n",
       "      <th>4</th>\n",
       "      <td>Ernest E. Mandel was a Belgian professional jo...</td>\n",
       "      <td>ernest e mandel belgian professional journalis...</td>\n",
       "      <td>True</td>\n",
       "      <td>reversed</td>\n",
       "      <td>majority opinion</td>\n",
       "    </tr>\n",
       "    <tr>\n",
       "      <th>...</th>\n",
       "      <td>...</td>\n",
       "      <td>...</td>\n",
       "      <td>...</td>\n",
       "      <td>...</td>\n",
       "      <td>...</td>\n",
       "    </tr>\n",
       "    <tr>\n",
       "      <th>3093</th>\n",
       "      <td>For over a century after the Alaska Purchase i...</td>\n",
       "      <td>century alaska purchase 1867 federal governmen...</td>\n",
       "      <td>True</td>\n",
       "      <td>reversed/remanded</td>\n",
       "      <td>majority opinion</td>\n",
       "    </tr>\n",
       "    <tr>\n",
       "      <th>3094</th>\n",
       "      <td>Refugio Palomar-Santiago, a Mexican national, ...</td>\n",
       "      <td>refugio palomarsantiago mexican national grant...</td>\n",
       "      <td>True</td>\n",
       "      <td>reversed/remanded</td>\n",
       "      <td>majority opinion</td>\n",
       "    </tr>\n",
       "    <tr>\n",
       "      <th>3095</th>\n",
       "      <td>Tarahrick Terry pleaded guilty to one count of...</td>\n",
       "      <td>tarahrick terry pleaded guilty one count posse...</td>\n",
       "      <td>False</td>\n",
       "      <td>affirmed</td>\n",
       "      <td>majority opinion</td>\n",
       "    </tr>\n",
       "    <tr>\n",
       "      <th>3096</th>\n",
       "      <td>Joshua James Cooley was parked in his pickup t...</td>\n",
       "      <td>joshua james cooley parked pickup truck side r...</td>\n",
       "      <td>True</td>\n",
       "      <td>vacated/remanded</td>\n",
       "      <td>majority opinion</td>\n",
       "    </tr>\n",
       "    <tr>\n",
       "      <th>3097</th>\n",
       "      <td>The Natural Gas Act (NGA), 15 U.S.C. §§ 717–71...</td>\n",
       "      <td>natural gas act nga 15 usc 717717z permit priv...</td>\n",
       "      <td>True</td>\n",
       "      <td>reversed/remanded</td>\n",
       "      <td>majority opinion</td>\n",
       "    </tr>\n",
       "  </tbody>\n",
       "</table>\n",
       "<p>3098 rows × 5 columns</p>\n",
       "</div>"
      ],
      "text/plain": [
       "                                                  facts  \\\n",
       "0     Joan Stanley had three children with Peter Sta...   \n",
       "1     John Giglio was convicted of passing forged mo...   \n",
       "2     The Idaho Probate Code specified that \"males m...   \n",
       "3     Miller, after conducting a mass mailing campai...   \n",
       "4     Ernest E. Mandel was a Belgian professional jo...   \n",
       "...                                                 ...   \n",
       "3093  For over a century after the Alaska Purchase i...   \n",
       "3094  Refugio Palomar-Santiago, a Mexican national, ...   \n",
       "3095  Tarahrick Terry pleaded guilty to one count of...   \n",
       "3096  Joshua James Cooley was parked in his pickup t...   \n",
       "3097  The Natural Gas Act (NGA), 15 U.S.C. §§ 717–71...   \n",
       "\n",
       "                                            facts_clean first_party_winner  \\\n",
       "0     joan stanley three child peter stanley stanley...               True   \n",
       "1     john giglio convicted passing forged money ord...               True   \n",
       "2     idaho probate code specified male must preferr...               True   \n",
       "3     miller conducting mass mailing campaign advert...               True   \n",
       "4     ernest e mandel belgian professional journalis...               True   \n",
       "...                                                 ...                ...   \n",
       "3093  century alaska purchase 1867 federal governmen...               True   \n",
       "3094  refugio palomarsantiago mexican national grant...               True   \n",
       "3095  tarahrick terry pleaded guilty one count posse...              False   \n",
       "3096  joshua james cooley parked pickup truck side r...               True   \n",
       "3097  natural gas act nga 15 usc 717717z permit priv...               True   \n",
       "\n",
       "            disposition     decision_type  \n",
       "0     reversed/remanded  majority opinion  \n",
       "1     reversed/remanded  majority opinion  \n",
       "2     reversed/remanded  majority opinion  \n",
       "3      vacated/remanded  majority opinion  \n",
       "4              reversed  majority opinion  \n",
       "...                 ...               ...  \n",
       "3093  reversed/remanded  majority opinion  \n",
       "3094  reversed/remanded  majority opinion  \n",
       "3095           affirmed  majority opinion  \n",
       "3096   vacated/remanded  majority opinion  \n",
       "3097  reversed/remanded  majority opinion  \n",
       "\n",
       "[3098 rows x 5 columns]"
      ]
     },
     "execution_count": 107,
     "metadata": {},
     "output_type": "execute_result"
    }
   ],
   "source": [
    "df_nl1"
   ]
  },
  {
   "cell_type": "code",
   "execution_count": 108,
   "id": "90beea54",
   "metadata": {},
   "outputs": [],
   "source": [
    "xfeatures1 = df_nl1[['facts_clean','decision_type','disposition']]\n",
    "ylabel1 = df_nl1['first_party_winner']"
   ]
  },
  {
   "cell_type": "code",
   "execution_count": 109,
   "id": "134d5af2",
   "metadata": {},
   "outputs": [],
   "source": [
    "df_cat1 = pd.get_dummies(df_cat['decision_type'])"
   ]
  },
  {
   "cell_type": "code",
   "execution_count": 110,
   "id": "c1f57584",
   "metadata": {},
   "outputs": [],
   "source": [
    "df_cat2 = pd.get_dummies(df_cat['disposition'])"
   ]
  },
  {
   "cell_type": "code",
   "execution_count": 111,
   "id": "8e11961f",
   "metadata": {},
   "outputs": [],
   "source": [
    "df_cat3=pd.concat([df_cat2,df_cat1],axis=1,join='inner')"
   ]
  },
  {
   "cell_type": "code",
   "execution_count": 112,
   "id": "464f7086",
   "metadata": {},
   "outputs": [
    {
     "data": {
      "text/plain": [
       "Index(['affirmed', 'none', 'reversed', 'reversed in-part',\n",
       "       'reversed in-part/remanded', 'reversed/remanded', 'vacated',\n",
       "       'vacated in-part/remanded', 'vacated/remanded',\n",
       "       'dismissal - improvidently granted', 'dismissal - moot',\n",
       "       'dismissal - other', 'equally divided', 'majority opinion',\n",
       "       'opinion of the court', 'per curiam', 'plurality opinion'],\n",
       "      dtype='object')"
      ]
     },
     "execution_count": 112,
     "metadata": {},
     "output_type": "execute_result"
    }
   ],
   "source": [
    "df_cat3.columns"
   ]
  },
  {
   "cell_type": "code",
   "execution_count": 113,
   "id": "049352d5",
   "metadata": {},
   "outputs": [],
   "source": [
    "df_cat3=pd.concat([df_cat3,df_nl1['first_party_winner']],axis=1,join='inner')"
   ]
  },
  {
   "cell_type": "code",
   "execution_count": 114,
   "id": "41b78e06",
   "metadata": {},
   "outputs": [],
   "source": [
    "vectorize=CountVectorizer()"
   ]
  },
  {
   "cell_type": "code",
   "execution_count": 115,
   "id": "a5652d75",
   "metadata": {},
   "outputs": [
    {
     "name": "stderr",
     "output_type": "stream",
     "text": [
      "C:\\Users\\Acer\\anaconda3\\lib\\site-packages\\sklearn\\utils\\deprecation.py:87: FutureWarning: Function get_feature_names is deprecated; get_feature_names is deprecated in 1.0 and will be removed in 1.2. Please use get_feature_names_out instead.\n",
      "  warnings.warn(msg, category=FutureWarning)\n"
     ]
    }
   ],
   "source": [
    "count_matrix = vectorize.fit_transform(df_nl1['facts_clean'])\n",
    "count_array = count_matrix.toarray()\n",
    "data_final = pd.DataFrame(data=count_array,columns = vectorize.get_feature_names())"
   ]
  },
  {
   "cell_type": "code",
   "execution_count": 116,
   "id": "f3475378",
   "metadata": {},
   "outputs": [],
   "source": [
    "data_final = pd.concat([data_final,df_cat3],axis=1,join='inner')"
   ]
  },
  {
   "cell_type": "code",
   "execution_count": 117,
   "id": "8807fdf9",
   "metadata": {},
   "outputs": [
    {
     "data": {
      "text/html": [
       "<div>\n",
       "<style scoped>\n",
       "    .dataframe tbody tr th:only-of-type {\n",
       "        vertical-align: middle;\n",
       "    }\n",
       "\n",
       "    .dataframe tbody tr th {\n",
       "        vertical-align: top;\n",
       "    }\n",
       "\n",
       "    .dataframe thead th {\n",
       "        text-align: right;\n",
       "    }\n",
       "</style>\n",
       "<table border=\"1\" class=\"dataframe\">\n",
       "  <thead>\n",
       "    <tr style=\"text-align: right;\">\n",
       "      <th></th>\n",
       "      <th>011119</th>\n",
       "      <th>0125</th>\n",
       "      <th>01657</th>\n",
       "      <th>019</th>\n",
       "      <th>02</th>\n",
       "      <th>036539</th>\n",
       "      <th>04</th>\n",
       "      <th>041352</th>\n",
       "      <th>041581</th>\n",
       "      <th>045323</th>\n",
       "      <th>...</th>\n",
       "      <th>vacated/remanded</th>\n",
       "      <th>dismissal - improvidently granted</th>\n",
       "      <th>dismissal - moot</th>\n",
       "      <th>dismissal - other</th>\n",
       "      <th>equally divided</th>\n",
       "      <th>majority opinion</th>\n",
       "      <th>opinion of the court</th>\n",
       "      <th>per curiam</th>\n",
       "      <th>plurality opinion</th>\n",
       "      <th>first_party_winner</th>\n",
       "    </tr>\n",
       "  </thead>\n",
       "  <tbody>\n",
       "    <tr>\n",
       "      <th>0</th>\n",
       "      <td>0</td>\n",
       "      <td>0</td>\n",
       "      <td>0</td>\n",
       "      <td>0</td>\n",
       "      <td>0</td>\n",
       "      <td>0</td>\n",
       "      <td>0</td>\n",
       "      <td>0</td>\n",
       "      <td>0</td>\n",
       "      <td>0</td>\n",
       "      <td>...</td>\n",
       "      <td>0</td>\n",
       "      <td>0</td>\n",
       "      <td>0</td>\n",
       "      <td>0</td>\n",
       "      <td>0</td>\n",
       "      <td>1</td>\n",
       "      <td>0</td>\n",
       "      <td>0</td>\n",
       "      <td>0</td>\n",
       "      <td>True</td>\n",
       "    </tr>\n",
       "    <tr>\n",
       "      <th>1</th>\n",
       "      <td>0</td>\n",
       "      <td>0</td>\n",
       "      <td>0</td>\n",
       "      <td>0</td>\n",
       "      <td>0</td>\n",
       "      <td>0</td>\n",
       "      <td>0</td>\n",
       "      <td>0</td>\n",
       "      <td>0</td>\n",
       "      <td>0</td>\n",
       "      <td>...</td>\n",
       "      <td>0</td>\n",
       "      <td>0</td>\n",
       "      <td>0</td>\n",
       "      <td>0</td>\n",
       "      <td>0</td>\n",
       "      <td>1</td>\n",
       "      <td>0</td>\n",
       "      <td>0</td>\n",
       "      <td>0</td>\n",
       "      <td>True</td>\n",
       "    </tr>\n",
       "    <tr>\n",
       "      <th>2</th>\n",
       "      <td>0</td>\n",
       "      <td>0</td>\n",
       "      <td>0</td>\n",
       "      <td>0</td>\n",
       "      <td>0</td>\n",
       "      <td>0</td>\n",
       "      <td>0</td>\n",
       "      <td>0</td>\n",
       "      <td>0</td>\n",
       "      <td>0</td>\n",
       "      <td>...</td>\n",
       "      <td>0</td>\n",
       "      <td>0</td>\n",
       "      <td>0</td>\n",
       "      <td>0</td>\n",
       "      <td>0</td>\n",
       "      <td>1</td>\n",
       "      <td>0</td>\n",
       "      <td>0</td>\n",
       "      <td>0</td>\n",
       "      <td>True</td>\n",
       "    </tr>\n",
       "    <tr>\n",
       "      <th>3</th>\n",
       "      <td>0</td>\n",
       "      <td>0</td>\n",
       "      <td>0</td>\n",
       "      <td>0</td>\n",
       "      <td>0</td>\n",
       "      <td>0</td>\n",
       "      <td>0</td>\n",
       "      <td>0</td>\n",
       "      <td>0</td>\n",
       "      <td>0</td>\n",
       "      <td>...</td>\n",
       "      <td>1</td>\n",
       "      <td>0</td>\n",
       "      <td>0</td>\n",
       "      <td>0</td>\n",
       "      <td>0</td>\n",
       "      <td>1</td>\n",
       "      <td>0</td>\n",
       "      <td>0</td>\n",
       "      <td>0</td>\n",
       "      <td>True</td>\n",
       "    </tr>\n",
       "    <tr>\n",
       "      <th>4</th>\n",
       "      <td>0</td>\n",
       "      <td>0</td>\n",
       "      <td>0</td>\n",
       "      <td>0</td>\n",
       "      <td>0</td>\n",
       "      <td>0</td>\n",
       "      <td>0</td>\n",
       "      <td>0</td>\n",
       "      <td>0</td>\n",
       "      <td>0</td>\n",
       "      <td>...</td>\n",
       "      <td>0</td>\n",
       "      <td>0</td>\n",
       "      <td>0</td>\n",
       "      <td>0</td>\n",
       "      <td>0</td>\n",
       "      <td>1</td>\n",
       "      <td>0</td>\n",
       "      <td>0</td>\n",
       "      <td>0</td>\n",
       "      <td>True</td>\n",
       "    </tr>\n",
       "    <tr>\n",
       "      <th>...</th>\n",
       "      <td>...</td>\n",
       "      <td>...</td>\n",
       "      <td>...</td>\n",
       "      <td>...</td>\n",
       "      <td>...</td>\n",
       "      <td>...</td>\n",
       "      <td>...</td>\n",
       "      <td>...</td>\n",
       "      <td>...</td>\n",
       "      <td>...</td>\n",
       "      <td>...</td>\n",
       "      <td>...</td>\n",
       "      <td>...</td>\n",
       "      <td>...</td>\n",
       "      <td>...</td>\n",
       "      <td>...</td>\n",
       "      <td>...</td>\n",
       "      <td>...</td>\n",
       "      <td>...</td>\n",
       "      <td>...</td>\n",
       "      <td>...</td>\n",
       "    </tr>\n",
       "    <tr>\n",
       "      <th>3093</th>\n",
       "      <td>0</td>\n",
       "      <td>0</td>\n",
       "      <td>0</td>\n",
       "      <td>0</td>\n",
       "      <td>0</td>\n",
       "      <td>0</td>\n",
       "      <td>0</td>\n",
       "      <td>0</td>\n",
       "      <td>0</td>\n",
       "      <td>0</td>\n",
       "      <td>...</td>\n",
       "      <td>0</td>\n",
       "      <td>0</td>\n",
       "      <td>0</td>\n",
       "      <td>0</td>\n",
       "      <td>0</td>\n",
       "      <td>1</td>\n",
       "      <td>0</td>\n",
       "      <td>0</td>\n",
       "      <td>0</td>\n",
       "      <td>True</td>\n",
       "    </tr>\n",
       "    <tr>\n",
       "      <th>3094</th>\n",
       "      <td>0</td>\n",
       "      <td>0</td>\n",
       "      <td>0</td>\n",
       "      <td>0</td>\n",
       "      <td>0</td>\n",
       "      <td>0</td>\n",
       "      <td>0</td>\n",
       "      <td>0</td>\n",
       "      <td>0</td>\n",
       "      <td>0</td>\n",
       "      <td>...</td>\n",
       "      <td>0</td>\n",
       "      <td>0</td>\n",
       "      <td>0</td>\n",
       "      <td>0</td>\n",
       "      <td>0</td>\n",
       "      <td>1</td>\n",
       "      <td>0</td>\n",
       "      <td>0</td>\n",
       "      <td>0</td>\n",
       "      <td>True</td>\n",
       "    </tr>\n",
       "    <tr>\n",
       "      <th>3095</th>\n",
       "      <td>0</td>\n",
       "      <td>0</td>\n",
       "      <td>0</td>\n",
       "      <td>0</td>\n",
       "      <td>0</td>\n",
       "      <td>0</td>\n",
       "      <td>0</td>\n",
       "      <td>0</td>\n",
       "      <td>0</td>\n",
       "      <td>0</td>\n",
       "      <td>...</td>\n",
       "      <td>0</td>\n",
       "      <td>0</td>\n",
       "      <td>0</td>\n",
       "      <td>0</td>\n",
       "      <td>0</td>\n",
       "      <td>1</td>\n",
       "      <td>0</td>\n",
       "      <td>0</td>\n",
       "      <td>0</td>\n",
       "      <td>False</td>\n",
       "    </tr>\n",
       "    <tr>\n",
       "      <th>3096</th>\n",
       "      <td>0</td>\n",
       "      <td>0</td>\n",
       "      <td>0</td>\n",
       "      <td>0</td>\n",
       "      <td>0</td>\n",
       "      <td>0</td>\n",
       "      <td>0</td>\n",
       "      <td>0</td>\n",
       "      <td>0</td>\n",
       "      <td>0</td>\n",
       "      <td>...</td>\n",
       "      <td>1</td>\n",
       "      <td>0</td>\n",
       "      <td>0</td>\n",
       "      <td>0</td>\n",
       "      <td>0</td>\n",
       "      <td>1</td>\n",
       "      <td>0</td>\n",
       "      <td>0</td>\n",
       "      <td>0</td>\n",
       "      <td>True</td>\n",
       "    </tr>\n",
       "    <tr>\n",
       "      <th>3097</th>\n",
       "      <td>0</td>\n",
       "      <td>0</td>\n",
       "      <td>0</td>\n",
       "      <td>0</td>\n",
       "      <td>0</td>\n",
       "      <td>0</td>\n",
       "      <td>0</td>\n",
       "      <td>0</td>\n",
       "      <td>0</td>\n",
       "      <td>0</td>\n",
       "      <td>...</td>\n",
       "      <td>0</td>\n",
       "      <td>0</td>\n",
       "      <td>0</td>\n",
       "      <td>0</td>\n",
       "      <td>0</td>\n",
       "      <td>1</td>\n",
       "      <td>0</td>\n",
       "      <td>0</td>\n",
       "      <td>0</td>\n",
       "      <td>True</td>\n",
       "    </tr>\n",
       "  </tbody>\n",
       "</table>\n",
       "<p>3098 rows × 20269 columns</p>\n",
       "</div>"
      ],
      "text/plain": [
       "      011119  0125  01657  019  02  036539  04  041352  041581  045323  ...  \\\n",
       "0          0     0      0    0   0       0   0       0       0       0  ...   \n",
       "1          0     0      0    0   0       0   0       0       0       0  ...   \n",
       "2          0     0      0    0   0       0   0       0       0       0  ...   \n",
       "3          0     0      0    0   0       0   0       0       0       0  ...   \n",
       "4          0     0      0    0   0       0   0       0       0       0  ...   \n",
       "...      ...   ...    ...  ...  ..     ...  ..     ...     ...     ...  ...   \n",
       "3093       0     0      0    0   0       0   0       0       0       0  ...   \n",
       "3094       0     0      0    0   0       0   0       0       0       0  ...   \n",
       "3095       0     0      0    0   0       0   0       0       0       0  ...   \n",
       "3096       0     0      0    0   0       0   0       0       0       0  ...   \n",
       "3097       0     0      0    0   0       0   0       0       0       0  ...   \n",
       "\n",
       "      vacated/remanded  dismissal - improvidently granted  dismissal - moot  \\\n",
       "0                    0                                  0                 0   \n",
       "1                    0                                  0                 0   \n",
       "2                    0                                  0                 0   \n",
       "3                    1                                  0                 0   \n",
       "4                    0                                  0                 0   \n",
       "...                ...                                ...               ...   \n",
       "3093                 0                                  0                 0   \n",
       "3094                 0                                  0                 0   \n",
       "3095                 0                                  0                 0   \n",
       "3096                 1                                  0                 0   \n",
       "3097                 0                                  0                 0   \n",
       "\n",
       "      dismissal - other  equally divided  majority opinion  \\\n",
       "0                     0                0                 1   \n",
       "1                     0                0                 1   \n",
       "2                     0                0                 1   \n",
       "3                     0                0                 1   \n",
       "4                     0                0                 1   \n",
       "...                 ...              ...               ...   \n",
       "3093                  0                0                 1   \n",
       "3094                  0                0                 1   \n",
       "3095                  0                0                 1   \n",
       "3096                  0                0                 1   \n",
       "3097                  0                0                 1   \n",
       "\n",
       "      opinion of the court  per curiam  plurality opinion  first_party_winner  \n",
       "0                        0           0                  0                True  \n",
       "1                        0           0                  0                True  \n",
       "2                        0           0                  0                True  \n",
       "3                        0           0                  0                True  \n",
       "4                        0           0                  0                True  \n",
       "...                    ...         ...                ...                 ...  \n",
       "3093                     0           0                  0                True  \n",
       "3094                     0           0                  0                True  \n",
       "3095                     0           0                  0               False  \n",
       "3096                     0           0                  0                True  \n",
       "3097                     0           0                  0                True  \n",
       "\n",
       "[3098 rows x 20269 columns]"
      ]
     },
     "execution_count": 117,
     "metadata": {},
     "output_type": "execute_result"
    }
   ],
   "source": [
    "data_final"
   ]
  },
  {
   "cell_type": "code",
   "execution_count": 118,
   "id": "16fde984",
   "metadata": {},
   "outputs": [],
   "source": [
    "X_train, X_test, y_train, y_test = train_test_split(data_final.drop(columns=['first_party_winner']),\n",
    "                                                    data_final['first_party_winner'], \n",
    "                                                    test_size=0.3,random_state=10)"
   ]
  },
  {
   "cell_type": "code",
   "execution_count": 119,
   "id": "a6a872c7",
   "metadata": {},
   "outputs": [],
   "source": [
    "from sklearn.preprocessing import StandardScaler\n",
    "scaler = StandardScaler()\n",
    "data_final = scaler.fit_transform(data_final)"
   ]
  },
  {
   "cell_type": "code",
   "execution_count": 120,
   "id": "2810719d",
   "metadata": {},
   "outputs": [],
   "source": [
    "from sklearn.decomposition import LatentDirichletAllocation\n",
    "lda = LatentDirichletAllocation(n_components=200, random_state=0)\n",
    "lda_data = lda.fit_transform(X_train)"
   ]
  },
  {
   "cell_type": "code",
   "execution_count": 121,
   "id": "7d154658",
   "metadata": {},
   "outputs": [],
   "source": [
    "lda_data_train = pd.DataFrame(data=lda_data)"
   ]
  },
  {
   "cell_type": "code",
   "execution_count": 122,
   "id": "fa9a047a",
   "metadata": {},
   "outputs": [],
   "source": [
    "lda_data_test = pd.DataFrame(data=lda.transform(X_test))"
   ]
  },
  {
   "cell_type": "code",
   "execution_count": 123,
   "id": "f17dc0df",
   "metadata": {},
   "outputs": [],
   "source": [
    "from sklearn.model_selection import GridSearchCV\n",
    "param_grid = {\n",
    "    'max_depth': [8,10,12,14],\n",
    "    'max_features': [60,70,80,90,100],\n",
    "    'min_samples_leaf': [2, 3, 4],\n",
    "    'n_estimators': [100, 200, 300]\n",
    "}# Create a based model\n",
    "rf = RandomForestClassifier()# Instantiate the grid search model\n",
    "grid_search = GridSearchCV(estimator = rf, param_grid = param_grid, \n",
    "                          cv = 3, n_jobs = -1, verbose = 2)"
   ]
  },
  {
   "cell_type": "code",
   "execution_count": 125,
   "id": "f8edcf9b",
   "metadata": {},
   "outputs": [],
   "source": [
    "y_train = y_train.astype('int')"
   ]
  },
  {
   "cell_type": "code",
   "execution_count": 126,
   "id": "de6c4c42",
   "metadata": {},
   "outputs": [
    {
     "name": "stdout",
     "output_type": "stream",
     "text": [
      "Fitting 3 folds for each of 180 candidates, totalling 540 fits\n"
     ]
    },
    {
     "data": {
      "text/plain": [
       "{'max_depth': 8,\n",
       " 'max_features': 90,\n",
       " 'min_samples_leaf': 2,\n",
       " 'n_estimators': 300}"
      ]
     },
     "execution_count": 126,
     "metadata": {},
     "output_type": "execute_result"
    }
   ],
   "source": [
    "grid_search.fit(lda_data_train, y_train)\n",
    "grid_search.best_params_"
   ]
  },
  {
   "cell_type": "code",
   "execution_count": 127,
   "id": "71ca75bd",
   "metadata": {},
   "outputs": [],
   "source": [
    "rand=RandomForestClassifier(max_depth= 8, max_features = 100, min_samples_leaf = 2, n_estimators = 200)"
   ]
  },
  {
   "cell_type": "code",
   "execution_count": 128,
   "id": "152185f1",
   "metadata": {},
   "outputs": [
    {
     "data": {
      "text/plain": [
       "RandomForestClassifier(max_depth=8, max_features=100, min_samples_leaf=2,\n",
       "                       n_estimators=200)"
      ]
     },
     "execution_count": 128,
     "metadata": {},
     "output_type": "execute_result"
    }
   ],
   "source": [
    "rand.fit(lda_data_train,y_train)"
   ]
  },
  {
   "cell_type": "code",
   "execution_count": 129,
   "id": "0f1e536e",
   "metadata": {},
   "outputs": [
    {
     "data": {
      "text/plain": [
       "0.7001845018450185"
      ]
     },
     "execution_count": 129,
     "metadata": {},
     "output_type": "execute_result"
    }
   ],
   "source": [
    "rand.score(lda_data_train,y_train)"
   ]
  },
  {
   "cell_type": "code",
   "execution_count": 131,
   "id": "c5db31bf",
   "metadata": {},
   "outputs": [],
   "source": [
    "y_test = y_test.astype('int')"
   ]
  },
  {
   "cell_type": "code",
   "execution_count": 132,
   "id": "fb408d3a",
   "metadata": {},
   "outputs": [
    {
     "data": {
      "text/plain": [
       "0.6741935483870968"
      ]
     },
     "execution_count": 132,
     "metadata": {},
     "output_type": "execute_result"
    }
   ],
   "source": [
    "rand.score(lda_data_test,y_test)"
   ]
  },
  {
   "cell_type": "code",
   "execution_count": 133,
   "id": "e3aeee93",
   "metadata": {},
   "outputs": [],
   "source": [
    "from sklearn.metrics import f1_score"
   ]
  },
  {
   "cell_type": "code",
   "execution_count": 134,
   "id": "072f841b",
   "metadata": {},
   "outputs": [
    {
     "data": {
      "text/plain": [
       "0.8031189083820662"
      ]
     },
     "execution_count": 134,
     "metadata": {},
     "output_type": "execute_result"
    }
   ],
   "source": [
    "y_pred1 = rand.predict(lda_data_test)\n",
    "f1_score(y_test, y_pred1)"
   ]
  },
  {
   "cell_type": "code",
   "execution_count": 135,
   "id": "68a90226",
   "metadata": {},
   "outputs": [
    {
     "name": "stdout",
     "output_type": "stream",
     "text": [
      "Accuracy: 65.05%\n"
     ]
    },
    {
     "data": {
      "text/plain": [
       "0.8031189083820662"
      ]
     },
     "execution_count": 135,
     "metadata": {},
     "output_type": "execute_result"
    }
   ],
   "source": [
    "model = XGBClassifier()\n",
    "model.fit(lda_data_train, y_train)\n",
    "y_pred = model.predict(lda_data_test)\n",
    "predictions = [round(value) for value in y_pred]\n",
    "# evaluate predictions\n",
    "accuracy = accuracy_score(y_test, predictions)\n",
    "print(\"Accuracy: %.2f%%\" % (accuracy * 100.0))\n",
    "f1_score(y_test, y_pred1)"
   ]
  },
  {
   "cell_type": "code",
   "execution_count": 136,
   "id": "fffd1be5",
   "metadata": {},
   "outputs": [],
   "source": [
    "knn=KNeighborsClassifier(n_neighbors=7)"
   ]
  },
  {
   "cell_type": "code",
   "execution_count": 137,
   "id": "83073ca8",
   "metadata": {},
   "outputs": [
    {
     "data": {
      "text/plain": [
       "KNeighborsClassifier(n_neighbors=7)"
      ]
     },
     "execution_count": 137,
     "metadata": {},
     "output_type": "execute_result"
    }
   ],
   "source": [
    "knn.fit(lda_data_train,y_train)"
   ]
  },
  {
   "cell_type": "code",
   "execution_count": 138,
   "id": "fbe4dd74",
   "metadata": {},
   "outputs": [
    {
     "name": "stderr",
     "output_type": "stream",
     "text": [
      "C:\\Users\\Acer\\anaconda3\\lib\\site-packages\\sklearn\\neighbors\\_classification.py:228: FutureWarning: Unlike other reduction functions (e.g. `skew`, `kurtosis`), the default behavior of `mode` typically preserves the axis it acts along. In SciPy 1.11.0, this behavior will change: the default value of `keepdims` will become False, the `axis` over which the statistic is taken will be eliminated, and the value None will no longer be accepted. Set `keepdims` to True or False to avoid this warning.\n",
      "  mode, _ = stats.mode(_y[neigh_ind, k], axis=1)\n"
     ]
    },
    {
     "data": {
      "text/plain": [
       "0.7061808118081181"
      ]
     },
     "execution_count": 138,
     "metadata": {},
     "output_type": "execute_result"
    }
   ],
   "source": [
    "knn.score(lda_data_train,y_train)"
   ]
  },
  {
   "cell_type": "code",
   "execution_count": 139,
   "id": "406a50c6",
   "metadata": {},
   "outputs": [
    {
     "name": "stderr",
     "output_type": "stream",
     "text": [
      "C:\\Users\\Acer\\anaconda3\\lib\\site-packages\\sklearn\\neighbors\\_classification.py:228: FutureWarning: Unlike other reduction functions (e.g. `skew`, `kurtosis`), the default behavior of `mode` typically preserves the axis it acts along. In SciPy 1.11.0, this behavior will change: the default value of `keepdims` will become False, the `axis` over which the statistic is taken will be eliminated, and the value None will no longer be accepted. Set `keepdims` to True or False to avoid this warning.\n",
      "  mode, _ = stats.mode(_y[neigh_ind, k], axis=1)\n"
     ]
    },
    {
     "data": {
      "text/plain": [
       "0.6365591397849463"
      ]
     },
     "execution_count": 139,
     "metadata": {},
     "output_type": "execute_result"
    }
   ],
   "source": [
    "knn.score(lda_data_test,y_test)"
   ]
  },
  {
   "cell_type": "code",
   "execution_count": 140,
   "id": "fae962b3",
   "metadata": {},
   "outputs": [],
   "source": [
    "import numpy as np\n",
    "from keras.preprocessing import sequence\n",
    "from keras.models import Sequential\n",
    "from keras.layers import Dense, Dropout, Embedding, LSTM, Bidirectional"
   ]
  },
  {
   "cell_type": "code",
   "execution_count": 141,
   "id": "da1629b3",
   "metadata": {},
   "outputs": [],
   "source": [
    "n_unique_words = 10000 # cut texts after this number of words\n",
    "maxlen = 2000\n",
    "batch_size = 32"
   ]
  },
  {
   "cell_type": "code",
   "execution_count": 142,
   "id": "06d9845f",
   "metadata": {},
   "outputs": [],
   "source": [
    "model = Sequential()\n",
    "model.add(Embedding(n_unique_words, 128, input_length=maxlen))\n",
    "model.add(LSTM(64))\n",
    "model.add(Dropout(0.2))\n",
    "model.add(Dense(1, activation='sigmoid'))\n",
    "model.compile(loss='binary_crossentropy', optimizer='adam', metrics=['accuracy'])"
   ]
  }
 ],
 "metadata": {
  "kernelspec": {
   "display_name": "Python 3 (ipykernel)",
   "language": "python",
   "name": "python3"
  },
  "language_info": {
   "codemirror_mode": {
    "name": "ipython",
    "version": 3
   },
   "file_extension": ".py",
   "mimetype": "text/x-python",
   "name": "python",
   "nbconvert_exporter": "python",
   "pygments_lexer": "ipython3",
   "version": "3.9.13"
  }
 },
 "nbformat": 4,
 "nbformat_minor": 5
}
